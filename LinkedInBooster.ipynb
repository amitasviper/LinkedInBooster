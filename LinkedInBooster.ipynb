{
 "cells": [
  {
   "cell_type": "code",
   "execution_count": 11,
   "metadata": {},
   "outputs": [],
   "source": [
    "import random\n",
    "import time\n",
    "from selenium import webdriver\n",
    "from selenium.webdriver.common.action_chains import ActionChains"
   ]
  },
  {
   "cell_type": "code",
   "execution_count": 1,
   "metadata": {},
   "outputs": [],
   "source": [
    "driver = webdriver.Chrome()\n",
    "driver.get(\"https://www.linkedin.com/feed/\")"
   ]
  },
  {
   "cell_type": "code",
   "execution_count": 2,
   "metadata": {},
   "outputs": [],
   "source": [
    "CANDIDATE_HEADLINES = ['professor', 'hiring', 'recruiter', 'recruiting' ,'manager', 'sde manager', 'software engineering manager', 'principal software engineer', 'principal engineer', 'director', 'vice president']\n",
    "connect_counter = 0\n",
    "like_counter = 0"
   ]
  },
  {
   "cell_type": "code",
   "execution_count": 3,
   "metadata": {},
   "outputs": [],
   "source": [
    "logs = []"
   ]
  },
  {
   "cell_type": "code",
   "execution_count": 4,
   "metadata": {},
   "outputs": [],
   "source": [
    "def scrollDown(driver):\n",
    "    last_height = driver.execute_script(\"return document.body.scrollHeight\")\n",
    "    driver.execute_script(\"window.scrollTo(0, document.body.scrollHeight);\")"
   ]
  },
  {
   "cell_type": "code",
   "execution_count": 5,
   "metadata": {},
   "outputs": [],
   "source": [
    "def hoverOver(header):\n",
    "    hover = ActionChains(driver).move_to_element(header)\n",
    "    hover.perform()"
   ]
  },
  {
   "cell_type": "code",
   "execution_count": 6,
   "metadata": {},
   "outputs": [],
   "source": [
    "def checkIfRelevantCandidate(profile):\n",
    "    intro = profile.get_attribute(\"textContent\").lower().strip()\n",
    "    logs.append(intro)\n",
    "    for headline in CANDIDATE_HEADLINES:\n",
    "        if headline in intro:\n",
    "            return True\n",
    "    return False"
   ]
  },
  {
   "cell_type": "code",
   "execution_count": 7,
   "metadata": {},
   "outputs": [],
   "source": [
    "def sleepRandom(max_time):\n",
    "    sleep_time = random.randint(1, max_time*1000)/1000.0\n",
    "    time.sleep(sleep_time)"
   ]
  },
  {
   "cell_type": "code",
   "execution_count": 8,
   "metadata": {},
   "outputs": [],
   "source": [
    "def connectWithPeople():\n",
    "    profiles = driver.find_elements_by_xpath('//div[@class=\"feed-shared-actor__meta relative\"]')\n",
    "    for profile in profiles:\n",
    "        try:\n",
    "            if checkIfRelevantCandidate(profile):\n",
    "                header = profile.find_element_by_xpath('.//span[@class=\"feed-shared-actor__name t-14 t-black t-bold hoverable-link-text\"]')\n",
    "                person_name = header.get_attribute(\"textContent\").strip()\n",
    "                hoverOver(header)\n",
    "                sleepRandom(2)\n",
    "                connect_btn = driver.find_element_by_xpath('//button[@data-control-name=\"hover_card_connect\"]')\n",
    "                if not connect_btn.is_enabled():\n",
    "                    continue\n",
    "                print(\"Sending a connect request to {0}\".format(person_name))\n",
    "                driver.execute_script(\"arguments[0].click();\", connect_btn)\n",
    "                connect_counter += 1\n",
    "                sleepRandom(20)\n",
    "        except Exception as ex:\n",
    "            print(str(ex))"
   ]
  },
  {
   "cell_type": "code",
   "execution_count": 9,
   "metadata": {},
   "outputs": [],
   "source": [
    "def writeLogsToFile():\n",
    "    global logs\n",
    "    try:\n",
    "        with open('logs.txt', 'a') as writer:\n",
    "            data = '\\n'.join(logs).encode('utf-8')\n",
    "            logs = []\n",
    "            writer.write(data)\n",
    "    except Exception as ex:\n",
    "        print(str(ex))\n",
    "        print('Unable to write logs to file')"
   ]
  },
  {
   "cell_type": "code",
   "execution_count": null,
   "metadata": {},
   "outputs": [
    {
     "name": "stdout",
     "output_type": "stream",
     "text": [
      "Sleeping before next like\n",
      "Sleeping before scrolling\n",
      "Sending a connect request to Iqra Dada\n",
      "local variable 'connect_counter' referenced before assignment\n",
      "Already ran 1 iterations\n",
      "Total likes made: 2\n",
      "Total connects  : 0\n",
      "Sleeping before next like\n",
      "Sleeping before scrolling\n",
      "Already ran 2 iterations\n",
      "Total likes made: 3\n",
      "Total connects  : 0\n",
      "Sleeping before scrolling\n"
     ]
    }
   ],
   "source": [
    "count = 0\n",
    "while True:\n",
    "    likes = driver.find_elements_by_xpath('//li-icon[@type=\"like-icon\"]')\n",
    "    for like in likes:\n",
    "        if like.get_attribute('size') == 'small':\n",
    "            continue\n",
    "        driver.execute_script(\"arguments[0].click();\", like)\n",
    "        like_counter += 1\n",
    "        print(\"Sleeping before next like\")\n",
    "        sleepRandom(20)\n",
    "    print(\"Sleeping before scrolling\")\n",
    "    sleepRandom(100)\n",
    "    connectWithPeople()\n",
    "    scrollDown(driver)\n",
    "    count += 1\n",
    "    print(\"Already ran {0} iterations\".format(count))\n",
    "    print(\"Total likes made: {0}\".format(like_counter))\n",
    "    print(\"Total connects  : {0}\".format(connect_counter))\n",
    "    writeLogsToFile()\n",
    "    if count % 200 == 0:\n",
    "        driver.refresh()\n",
    "        sleepRandom(10)\n",
    "        "
   ]
  },
  {
   "cell_type": "code",
   "execution_count": null,
   "metadata": {},
   "outputs": [],
   "source": []
  }
 ],
 "metadata": {
  "kernelspec": {
   "display_name": "Python 2",
   "language": "python",
   "name": "python2"
  },
  "language_info": {
   "codemirror_mode": {
    "name": "ipython",
    "version": 2
   },
   "file_extension": ".py",
   "mimetype": "text/x-python",
   "name": "python",
   "nbconvert_exporter": "python",
   "pygments_lexer": "ipython2",
   "version": "2.7.14"
  }
 },
 "nbformat": 4,
 "nbformat_minor": 2
}
